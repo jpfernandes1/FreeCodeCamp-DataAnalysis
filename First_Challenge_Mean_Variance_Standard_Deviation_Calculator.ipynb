{
  "nbformat": 4,
  "nbformat_minor": 0,
  "metadata": {
    "colab": {
      "provenance": []
    },
    "kernelspec": {
      "name": "python3",
      "display_name": "Python 3"
    },
    "language_info": {
      "name": "python"
    }
  },
  "cells": [
    {
      "cell_type": "markdown",
      "source": [
        "Create a function named calculate() in mean_var_std.py that uses Numpy to output the mean, variance, standard deviation, max, min, and sum of the rows, columns, and elements in a 3 x 3 matrix.\n",
        "\n",
        "The input of the function should be a list containing 9 digits. The function should convert the list into a 3 x 3 Numpy array, and then return a dictionary containing the mean, variance, standard deviation, max, min, and sum along both axes and for the flattened matrix."
      ],
      "metadata": {
        "id": "O_UosFM8CV6V"
      }
    },
    {
      "cell_type": "markdown",
      "source": [
        "If a list containing less than 9 elements is passed into the function, it should raise a ValueError exception with the message: \"List must contain nine numbers.\" The values in the returned dictionary should be lists and not Numpy arrays."
      ],
      "metadata": {
        "id": "b94cTet-CeMb"
      }
    },
    {
      "cell_type": "code",
      "source": [
        "import numpy as np"
      ],
      "metadata": {
        "id": "3fYUZSFiCs_1"
      },
      "execution_count": 2,
      "outputs": []
    },
    {
      "cell_type": "code",
      "source": [
        "def calculate(array):\n",
        "  if len(array) < 9:\n",
        "    print(\"List must contain nine numbers.\")\n",
        "  else:\n",
        "    array = np.array(array)\n",
        "    array = np.reshape(array, (3, 3))\n",
        "    flat_matrix = array.flatten()\n",
        "    statistics = {\n",
        "      'mean': [[array[:, 0].mean(), array[:, 1].mean(), array[:, 2].mean()],\n",
        "             [array[0, :].mean(), array[1, :].mean(), array[2, :].mean()],\n",
        "             flat_matrix.mean()],\n",
        "      'variance': [[array[:, 0].var(), array[:, 1].var(), array[:, 2].var()],\n",
        "                 [array[0, :].var(), array[1, :].var(), array[2, :].var()],\n",
        "                 flat_matrix.var()],\n",
        "      'standard deviation':\n",
        "      [[array[:, 0].std(), array[:, 1].std(), array[:, 2].std()],\n",
        "       [array[0, :].std(), array[1, :].std(), array[2, :].std()],\n",
        "       flat_matrix.std()],\n",
        "      'max': [[array[:, 0].max(), array[:, 1].max(), array[:, 2].max()],\n",
        "            [array[0, :].max(), array[1, :].max(), array[2, :].max()],\n",
        "            flat_matrix.max()],\n",
        "      'min': [[array[:, 0].min(), array[:, 1].min(), array[:, 2].min()],\n",
        "            [array[0, :].min(), array[1, :].min(), array[2, :].min()],\n",
        "            flat_matrix.min()],\n",
        "      'sum': [[array[:, 0].sum(), array[:, 1].sum(), array[:, 2].sum()],\n",
        "            [array[0, :].sum(), array[1, :].sum(), array[2, :].sum()],\n",
        "            flat_matrix.sum()]\n",
        "  }\n",
        "    print(statistics)\n"
      ],
      "metadata": {
        "id": "v70UWSdnCgGc"
      },
      "execution_count": 1,
      "outputs": []
    },
    {
      "cell_type": "code",
      "source": [
        "calculate([0,1,2,3,4,5,6,7,8])"
      ],
      "metadata": {
        "colab": {
          "base_uri": "https://localhost:8080/"
        },
        "id": "jb8Ex9lnCmSk",
        "outputId": "f7f086b5-9745-4fef-91ad-dfb5ac0a1335"
      },
      "execution_count": 3,
      "outputs": [
        {
          "output_type": "stream",
          "name": "stdout",
          "text": [
            "{'mean': [[3.0, 4.0, 5.0], [1.0, 4.0, 7.0], 4.0], 'variance': [[6.0, 6.0, 6.0], [0.6666666666666666, 0.6666666666666666, 0.6666666666666666], 6.666666666666667], 'standard deviation': [[2.449489742783178, 2.449489742783178, 2.449489742783178], [0.816496580927726, 0.816496580927726, 0.816496580927726], 2.581988897471611], 'max': [[6, 7, 8], [2, 5, 8], 8], 'min': [[0, 1, 2], [0, 3, 6], 0], 'sum': [[9, 12, 15], [3, 12, 21], 36]}\n"
          ]
        }
      ]
    }
  ]
}